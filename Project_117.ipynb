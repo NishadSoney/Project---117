{
  "nbformat": 4,
  "nbformat_minor": 0,
  "metadata": {
    "colab": {
      "name": "Project - 117",
      "provenance": [],
      "collapsed_sections": [],
      "authorship_tag": "ABX9TyPyxiPOwLZGTFs+gJVZbFAt",
      "include_colab_link": true
    },
    "kernelspec": {
      "name": "python3",
      "display_name": "Python 3"
    },
    "language_info": {
      "name": "python"
    }
  },
  "cells": [
    {
      "cell_type": "markdown",
      "metadata": {
        "id": "view-in-github",
        "colab_type": "text"
      },
      "source": [
        "<a href=\"https://colab.research.google.com/github/NishadSoney/Project---117/blob/master/Project_117.ipynb\" target=\"_parent\"><img src=\"https://colab.research.google.com/assets/colab-badge.svg\" alt=\"Open In Colab\"/></a>"
      ]
    },
    {
      "cell_type": "code",
      "metadata": {
        "colab": {
          "base_uri": "https://localhost:8080/",
          "height": 413
        },
        "id": "rP1UyFIgWvJ3",
        "outputId": "a2b5ec21-7172-4af7-f57b-bdf1eab7cf2e"
      },
      "source": [
        "import pandas as pd\n",
        "import csv\n",
        "\n",
        "df = pd.read_csv(\"BNA.csv\")\n",
        "\n",
        "print(df.head())\n",
        "\n",
        "from sklearn.model_selection import train_test_split\n",
        "from sklearn.linear_model import LogisticRegression\n",
        "from sklearn.metrics import confusion_matrix\n",
        "import matplotlib.pyplot as plt\n",
        "import seaborn as sns\n",
        "import numpy as np\n",
        "\n",
        "ha = df[\"class\"]\n",
        "age = df[[\"variance\",\"skewness\",\"curtosis\",\"entropy\"]]\n",
        "\n",
        "age_train,age_test,ha_train,ha_test = train_test_split(age,ha,test_size = 0.25, random_state = 42)\n",
        "\n",
        "cf = LogisticRegression()\n",
        "cf.fit(age_train,ha_train)\n",
        "\n",
        "ha_pre = cf.predict(age_test)\n",
        "\n",
        "pv = []\n",
        "\n",
        "for i in ha_pre:\n",
        "  if i == 0:\n",
        "    pv.append(\"authorized\")\n",
        "  else:\n",
        "    pv.append(\"forged\")\n",
        "\n",
        "av = []\n",
        "\n",
        "for i in ha_test:\n",
        "  if i == 0:\n",
        "    av.append(\"authorized\")\n",
        "  else:\n",
        "    av.append(\"forged\")\n",
        "\n",
        "labels = [\"authorized\",\"forged\"]\n",
        "\n",
        "ax = plt.subplot()\n",
        "\n",
        "cm = confusion_matrix(av,pv,labels)\n",
        "\n",
        "sns.heatmap(cm,annot = True)\n",
        "\n",
        "ax.set_xlabel(\"predicted\")\n",
        "ax.set_ylabel(\"actual\")\n",
        "\n",
        "ax.set_title(\"con mat\")\n",
        "\n",
        "ax.xaxis.set_ticklabels(labels)\n",
        "ax.yaxis.set_ticklabels(labels)"
      ],
      "execution_count": 10,
      "outputs": [
        {
          "output_type": "stream",
          "name": "stdout",
          "text": [
            "   variance  skewness  curtosis  entropy  class\n",
            "0   3.62160    8.6661   -2.8073 -0.44699      0\n",
            "1   4.54590    8.1674   -2.4586 -1.46210      0\n",
            "2   3.86600   -2.6383    1.9242  0.10645      0\n",
            "3   3.45660    9.5228   -4.0112 -3.59440      0\n",
            "4   0.32924   -4.4552    4.5718 -0.98880      0\n"
          ]
        },
        {
          "output_type": "execute_result",
          "data": {
            "text/plain": [
              "[Text(0, 0.5, 'authorized'), Text(0, 1.5, 'forged')]"
            ]
          },
          "metadata": {},
          "execution_count": 10
        },
        {
          "output_type": "display_data",
          "data": {
            "image/png": "[encoded data removed]",
            "text/plain": [
              "<Figure size 432x288 with 2 Axes>"
            ]
          },
          "metadata": {
            "needs_background": "light"
          }
        }
      ]
    }
  ]
}